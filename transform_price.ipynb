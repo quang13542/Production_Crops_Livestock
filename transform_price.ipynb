{
 "cells": [
  {
   "cell_type": "code",
   "execution_count": 2,
   "metadata": {},
   "outputs": [],
   "source": [
    "# %pip install pyspark==3.4.1"
   ]
  },
  {
   "cell_type": "code",
   "execution_count": 3,
   "metadata": {},
   "outputs": [],
   "source": [
    "import pyspark\n",
    "from pyspark.sql import SparkSession\n",
    "from pyspark.sql import functions as F\n",
    "# from pyspark.sql.functions import array, col\n",
    "from pyspark.sql.types import StructType,StructField, StringType, IntegerType\n",
    "import datetime"
   ]
  },
  {
   "cell_type": "code",
   "execution_count": 4,
   "metadata": {},
   "outputs": [],
   "source": [
    "import os\n",
    "cwd = os.getcwd()"
   ]
  },
  {
   "cell_type": "code",
   "execution_count": 5,
   "metadata": {},
   "outputs": [],
   "source": [
    "# spark = SparkSession.builder.master(\"local[1]\") \\\n",
    "#                     .appName('Price') \\\n",
    "#                     .getOrCreate()\n",
    "spark = SparkSession.builder \\\n",
    "                    .master(\"spark://127.0.0.1:7077\") \\\n",
    "                    .appName('Price') \\\n",
    "                    .getOrCreate()"
   ]
  },
  {
   "cell_type": "code",
   "execution_count": 6,
   "metadata": {},
   "outputs": [],
   "source": [
    "p_df = spark.read.option(\"header\", True)\\\n",
    "    .csv(f\"{cwd}/dataset/Prices_E_All_Data/Prices_E_All_Data.csv\")\n",
    "# p_df.printSchema()"
   ]
  },
  {
   "cell_type": "code",
   "execution_count": 7,
   "metadata": {},
   "outputs": [],
   "source": [
    "col_name = []\n",
    "for col in p_df.dtypes:\n",
    "    col_name.append(col[0])\n",
    "# col_name"
   ]
  },
  {
   "cell_type": "code",
   "execution_count": 8,
   "metadata": {
    "scrolled": true
   },
   "outputs": [],
   "source": [
    "year_list = []\n",
    "for x in col_name:\n",
    "    if 'Y' in x and 'F' not in x:\n",
    "        year_list.append(int(x.replace('Y', '')))\n",
    "# year_list"
   ]
  },
  {
   "cell_type": "code",
   "execution_count": 9,
   "metadata": {},
   "outputs": [
    {
     "name": "stdout",
     "output_type": "stream",
     "text": [
      "+----+--------------------+----+\n",
      "|  id|             element|unit|\n",
      "+----+--------------------+----+\n",
      "|5530|Producer Price (L...| LCU|\n",
      "|5531|Producer Price (S...| SLC|\n",
      "|5532|Producer Price (U...| USD|\n",
      "|5539|Producer Price In...|null|\n",
      "+----+--------------------+----+\n",
      "\n"
     ]
    }
   ],
   "source": [
    "ElementPrice_df = p_df.select(\n",
    "    p_df['Element Code'].cast('int').alias('id'),\n",
    "    p_df['Element'].cast('string').alias('element'),\n",
    "    p_df['Unit'].cast('string').alias('unit'),\n",
    ").orderBy('id')\n",
    "ElementPrice_df = ElementPrice_df.dropDuplicates([\"id\"])\n",
    "ElementPrice_df.show()"
   ]
  },
  {
   "cell_type": "code",
   "execution_count": 10,
   "metadata": {},
   "outputs": [
    {
     "name": "stdout",
     "output_type": "stream",
     "text": [
      "+----+------------+\n",
      "|  id|       month|\n",
      "+----+------------+\n",
      "|7001|     January|\n",
      "|7002|    February|\n",
      "|7003|       March|\n",
      "|7004|       April|\n",
      "|7005|         May|\n",
      "|7006|        June|\n",
      "|7007|        July|\n",
      "|7008|      August|\n",
      "|7009|   September|\n",
      "|7010|     October|\n",
      "|7011|    November|\n",
      "|7012|    December|\n",
      "|7021|Annual value|\n",
      "+----+------------+\n",
      "\n"
     ]
    }
   ],
   "source": [
    "Month_df = p_df.select(\n",
    "    p_df['Months Code'].cast('int').alias('id'),\n",
    "    p_df['Months'].cast('string').alias('month'),\n",
    ").orderBy('id')\n",
    "Month_df = Month_df.dropDuplicates([\"id\"])\n",
    "Month_df.show()"
   ]
  },
  {
   "cell_type": "code",
   "execution_count": 11,
   "metadata": {},
   "outputs": [
    {
     "name": "stdout",
     "output_type": "stream",
     "text": [
      "+----------+------------+----------------+--------+-------------+----+----+--------------------+\n",
      "|country_id|item_prod_id|element_price_id|month_id|        value|flag|year|    transformed_date|\n",
      "+----------+------------+----------------+--------+-------------+----+----+--------------------+\n",
      "|         2|         221|            5530|    7021|         null|null|1991|2023-07-26 22:58:...|\n",
      "|         2|         221|            5530|    7021|         null|null|1992|2023-07-26 22:58:...|\n",
      "|         2|         221|            5530|    7021| 46000.000000|   A|1993|2023-07-26 22:58:...|\n",
      "|         2|         221|            5530|    7021| 50000.000000|   A|1994|2023-07-26 22:58:...|\n",
      "|         2|         221|            5530|    7021| 62000.000000|   A|1995|2023-07-26 22:58:...|\n",
      "|         2|         221|            5530|    7021| 50000.000000|   A|1996|2023-07-26 22:58:...|\n",
      "|         2|         221|            5530|    7021| 41000.000000|   A|1997|2023-07-26 22:58:...|\n",
      "|         2|         221|            5530|    7021| 42000.000000|   A|1998|2023-07-26 22:58:...|\n",
      "|         2|         221|            5530|    7021| 52000.000000|   A|1999|2023-07-26 22:58:...|\n",
      "|         2|         221|            5530|    7021| 67000.000000|   A|2000|2023-07-26 22:58:...|\n",
      "|         2|         221|            5530|    7021| 83000.000000|   A|2001|2023-07-26 22:58:...|\n",
      "|         2|         221|            5530|    7021| 75000.000000|   A|2002|2023-07-26 22:58:...|\n",
      "|         2|         221|            5530|    7021| 89000.000000|   A|2003|2023-07-26 22:58:...|\n",
      "|         2|         221|            5530|    7021| 91000.000000|   A|2004|2023-07-26 22:58:...|\n",
      "|         2|         221|            5530|    7021| 90200.000000|   A|2005|2023-07-26 22:58:...|\n",
      "|         2|         221|            5530|    7021|         null|null|2006|2023-07-26 22:58:...|\n",
      "|         2|         221|            5530|    7021|         null|null|2007|2023-07-26 22:58:...|\n",
      "|         2|         221|            5530|    7021|213810.000000|   A|2008|2023-07-26 22:58:...|\n",
      "|         2|         221|            5530|    7021|186000.000000|   A|2009|2023-07-26 22:58:...|\n",
      "|         2|         221|            5530|    7021|215700.000000|   A|2010|2023-07-26 22:58:...|\n",
      "+----------+------------+----------------+--------+-------------+----+----+--------------------+\n",
      "only showing top 20 rows\n",
      "\n"
     ]
    }
   ],
   "source": [
    "for year in year_list:\n",
    "    p_df = p_df.withColumn(f\"NewColumn_{year}\", F.array(f\"Y{year}\", f\"Y{year}F\", F.lit(year)))\n",
    "    p_df = p_df.drop(f\"Y{year}\", f\"Y{year}F\")\n",
    "    \n",
    "p_df = p_df.withColumn(f\"merge_column\", F.array(*[f\"NewColumn_{year}\" for year in year_list]))\n",
    "transformed_date = datetime.datetime.now()\n",
    "for year in year_list:\n",
    "    p_df = p_df.drop(f\"NewColumn_{year}\")\n",
    "p_df = p_df.select(\n",
    "    p_df['Area Code'].cast('int').alias('country_id'),\n",
    "    p_df['Item Code'].cast('int').alias('item_prod_id'),\n",
    "    p_df['Element Code'].cast('int').alias('element_price_id'),\n",
    "    p_df['Months Code'].cast('int').alias('month_id'),\n",
    "    F.explode('merge_column').alias('year_col')\n",
    ")\n",
    "p_df = p_df.withColumn('value', F.lit(p_df.year_col[0])) \\\n",
    "            .withColumn('flag', F.lit(p_df.year_col[1])) \\\n",
    "            .withColumn('year', F.lit(p_df.year_col[2])) \\\n",
    "            .withColumn('transformed_date', F.lit(transformed_date))\n",
    "p_df = p_df.drop('year_col')\n",
    "p_df.show()"
   ]
  },
  {
   "cell_type": "code",
   "execution_count": 12,
   "metadata": {},
   "outputs": [],
   "source": [
    "ElementPrice_df.write\\\n",
    "    .mode(\"overwrite\") \\\n",
    "    .parquet(\"hdfs://127.0.0.1:9000/FAOSTAT_prj/DataWarehouse/Element_Price\")"
   ]
  },
  {
   "cell_type": "code",
   "execution_count": 13,
   "metadata": {},
   "outputs": [],
   "source": [
    "Month_df.write\\\n",
    "    .mode(\"overwrite\") \\\n",
    "    .parquet(\"hdfs://127.0.0.1:9000/FAOSTAT_prj/DataWarehouse/Month\")"
   ]
  },
  {
   "cell_type": "code",
   "execution_count": 14,
   "metadata": {},
   "outputs": [],
   "source": [
    "p_df.write\\\n",
    "    .mode(\"overwrite\") \\\n",
    "    .parquet(\"hdfs://127.0.0.1:9000/FAOSTAT_prj/DataWarehouse/Price\")"
   ]
  },
  {
   "cell_type": "code",
   "execution_count": 15,
   "metadata": {},
   "outputs": [],
   "source": [
    "spark.stop()"
   ]
  }
 ],
 "metadata": {
  "kernelspec": {
   "display_name": "Python 3 (ipykernel)",
   "language": "python",
   "name": "python3"
  },
  "language_info": {
   "codemirror_mode": {
    "name": "ipython",
    "version": 3
   },
   "file_extension": ".py",
   "mimetype": "text/x-python",
   "name": "python",
   "nbconvert_exporter": "python",
   "pygments_lexer": "ipython3",
   "version": "3.9.13"
  }
 },
 "nbformat": 4,
 "nbformat_minor": 2
}
