{
 "cells": [
  {
   "cell_type": "code",
   "execution_count": 2,
   "id": "4b7a9e9c",
   "metadata": {},
   "outputs": [],
   "source": [
    "# %pip install pyspark==3.4.1"
   ]
  },
  {
   "cell_type": "code",
   "execution_count": 3,
   "id": "ed7dded3",
   "metadata": {},
   "outputs": [],
   "source": [
    "import pyspark\n",
    "from pyspark.sql import SparkSession\n",
    "from pyspark.sql import functions as F\n",
    "# from pyspark.sql.functions import array, col\n",
    "from pyspark.sql.types import StructType,StructField, StringType, IntegerType\n",
    "import datetime\n",
    "import matplotlib.pyplot as plt\n",
    "import numpy as np"
   ]
  },
  {
   "cell_type": "code",
   "execution_count": 4,
   "id": "ee61ef1c",
   "metadata": {},
   "outputs": [],
   "source": [
    "COUNTRY = 'Viet Nam'\n",
    "MONTH = 'June'"
   ]
  },
  {
   "cell_type": "code",
   "execution_count": 5,
   "id": "dcaa9188",
   "metadata": {},
   "outputs": [],
   "source": [
    "# spark = SparkSession.builder \\\n",
    "#                     .master(\"spark://127.0.0.1:7077\") \\\n",
    "#                     .appName('CPI') \\\n",
    "#                     .getOrCreate()\n",
    "spark = SparkSession.builder \\\n",
    "                    .master(\"local[1]\") \\\n",
    "                    .appName('CPI') \\\n",
    "                    .getOrCreate()"
   ]
  },
  {
   "cell_type": "code",
   "execution_count": 6,
   "id": "012ce949",
   "metadata": {},
   "outputs": [],
   "source": [
    "cpi_df = spark.read\\\n",
    "    .parquet(\"hdfs://127.0.0.1:9000/FAOSTAT_prj/DataWarehouse/CPI\")"
   ]
  },
  {
   "cell_type": "code",
   "execution_count": 7,
   "id": "420602ef",
   "metadata": {},
   "outputs": [],
   "source": [
    "item_cpi_df = spark.read\\\n",
    "    .parquet(\"hdfs://127.0.0.1:9000/FAOSTAT_prj/DataWarehouse/Item_CPI\")"
   ]
  },
  {
   "cell_type": "code",
   "execution_count": 8,
   "id": "14d4a2f4",
   "metadata": {},
   "outputs": [],
   "source": [
    "month_df = spark.read\\\n",
    "    .parquet(\"hdfs://127.0.0.1:9000/FAOSTAT_prj/DataWarehouse/Month\")"
   ]
  },
  {
   "cell_type": "code",
   "execution_count": 9,
   "id": "1838aa64",
   "metadata": {},
   "outputs": [],
   "source": [
    "country_df = spark.read\\\n",
    "    .parquet(\"hdfs://127.0.0.1:9000/FAOSTAT_prj/DataWarehouse/Country\")"
   ]
  },
  {
   "cell_type": "code",
   "execution_count": 10,
   "id": "20b42776",
   "metadata": {},
   "outputs": [],
   "source": [
    "final_df = cpi_df.join(country_df, cpi_df.country_id == country_df.id, \"inner\") \\\n",
    "                .filter(country_df.country == COUNTRY) \\\n",
    "                .join(month_df, cpi_df.month_id ==  month_df.id, \"inner\") \\\n",
    "                .filter(month_df.month == MONTH) \\\n",
    "                .join(item_cpi_df, cpi_df.item_cpi_id ==  item_cpi_df.id, \"inner\") \\\n",
    "                .drop('country_id', 'item_cpi_id', 'month_id', 'flag', 'transformed_date', 'id', 'sub_region_code', 'region_code', 'id', 'sub_region_name', 'region_name', 'base_year', 'unit', 'month', 'country') \\\n",
    "                .toPandas()"
   ]
  },
  {
   "cell_type": "code",
   "execution_count": 11,
   "id": "a9aad492",
   "metadata": {},
   "outputs": [
    {
     "data": {
      "text/html": [
       "<div>\n",
       "<style scoped>\n",
       "    .dataframe tbody tr th:only-of-type {\n",
       "        vertical-align: middle;\n",
       "    }\n",
       "\n",
       "    .dataframe tbody tr th {\n",
       "        vertical-align: top;\n",
       "    }\n",
       "\n",
       "    .dataframe thead th {\n",
       "        text-align: right;\n",
       "    }\n",
       "</style>\n",
       "<table border=\"1\" class=\"dataframe\">\n",
       "  <thead>\n",
       "    <tr style=\"text-align: right;\">\n",
       "      <th></th>\n",
       "      <th>value</th>\n",
       "      <th>year</th>\n",
       "      <th>item</th>\n",
       "    </tr>\n",
       "  </thead>\n",
       "  <tbody>\n",
       "    <tr>\n",
       "      <th>0</th>\n",
       "      <td>25.039382</td>\n",
       "      <td>2000</td>\n",
       "      <td>Consumer Prices, Food Indices (2015 = 100)</td>\n",
       "    </tr>\n",
       "    <tr>\n",
       "      <th>1</th>\n",
       "      <td>24.925852</td>\n",
       "      <td>2001</td>\n",
       "      <td>Consumer Prices, Food Indices (2015 = 100)</td>\n",
       "    </tr>\n",
       "    <tr>\n",
       "      <th>2</th>\n",
       "      <td>26.662682</td>\n",
       "      <td>2002</td>\n",
       "      <td>Consumer Prices, Food Indices (2015 = 100)</td>\n",
       "    </tr>\n",
       "    <tr>\n",
       "      <th>3</th>\n",
       "      <td>27.096174</td>\n",
       "      <td>2003</td>\n",
       "      <td>Consumer Prices, Food Indices (2015 = 100)</td>\n",
       "    </tr>\n",
       "    <tr>\n",
       "      <th>4</th>\n",
       "      <td>31.014481</td>\n",
       "      <td>2004</td>\n",
       "      <td>Consumer Prices, Food Indices (2015 = 100)</td>\n",
       "    </tr>\n",
       "    <tr>\n",
       "      <th>...</th>\n",
       "      <td>...</td>\n",
       "      <td>...</td>\n",
       "      <td>...</td>\n",
       "    </tr>\n",
       "    <tr>\n",
       "      <th>64</th>\n",
       "      <td>5.103947</td>\n",
       "      <td>2018</td>\n",
       "      <td>Food price inflation</td>\n",
       "    </tr>\n",
       "    <tr>\n",
       "      <th>65</th>\n",
       "      <td>2.442362</td>\n",
       "      <td>2019</td>\n",
       "      <td>Food price inflation</td>\n",
       "    </tr>\n",
       "    <tr>\n",
       "      <th>66</th>\n",
       "      <td>12.459583</td>\n",
       "      <td>2020</td>\n",
       "      <td>Food price inflation</td>\n",
       "    </tr>\n",
       "    <tr>\n",
       "      <th>67</th>\n",
       "      <td>-0.330215</td>\n",
       "      <td>2021</td>\n",
       "      <td>Food price inflation</td>\n",
       "    </tr>\n",
       "    <tr>\n",
       "      <th>68</th>\n",
       "      <td>2.268350</td>\n",
       "      <td>2022</td>\n",
       "      <td>Food price inflation</td>\n",
       "    </tr>\n",
       "  </tbody>\n",
       "</table>\n",
       "<p>69 rows × 3 columns</p>\n",
       "</div>"
      ],
      "text/plain": [
       "        value  year                                        item\n",
       "0   25.039382  2000  Consumer Prices, Food Indices (2015 = 100)\n",
       "1   24.925852  2001  Consumer Prices, Food Indices (2015 = 100)\n",
       "2   26.662682  2002  Consumer Prices, Food Indices (2015 = 100)\n",
       "3   27.096174  2003  Consumer Prices, Food Indices (2015 = 100)\n",
       "4   31.014481  2004  Consumer Prices, Food Indices (2015 = 100)\n",
       "..        ...   ...                                         ...\n",
       "64   5.103947  2018                        Food price inflation\n",
       "65   2.442362  2019                        Food price inflation\n",
       "66  12.459583  2020                        Food price inflation\n",
       "67  -0.330215  2021                        Food price inflation\n",
       "68   2.268350  2022                        Food price inflation\n",
       "\n",
       "[69 rows x 3 columns]"
      ]
     },
     "metadata": {},
     "output_type": "display_data"
    }
   ],
   "source": [
    "display(final_df)"
   ]
  },
  {
   "cell_type": "code",
   "execution_count": 12,
   "id": "e0b94258",
   "metadata": {},
   "outputs": [
    {
     "name": "stdout",
     "output_type": "stream",
     "text": [
      "<class 'pandas.core.frame.DataFrame'>\n",
      "Index: 36 entries, 0 to 68\n",
      "Data columns (total 3 columns):\n",
      " #   Column  Non-Null Count  Dtype  \n",
      "---  ------  --------------  -----  \n",
      " 0   value   36 non-null     float64\n",
      " 1   year    36 non-null     int32  \n",
      " 2   item    36 non-null     object \n",
      "dtypes: float64(1), int32(1), object(1)\n",
      "memory usage: 1008.0+ bytes\n"
     ]
    }
   ],
   "source": [
    "final_df.value = final_df.value.astype(float).round(2).fillna(0)\n",
    "final_df.year = final_df.year.astype(int)\n",
    "\n",
    "odd_year = final_df[final_df.year % 2 == 1]\n",
    "final_df = final_df.drop(odd_year.index)\n",
    "\n",
    "final_df.info()"
   ]
  },
  {
   "cell_type": "code",
   "execution_count": 13,
   "id": "c68758e0",
   "metadata": {},
   "outputs": [
    {
     "data": {
      "image/png": "[encoded data removed]",
      "text/plain": [
       "<Figure size 640x480 with 1 Axes>"
      ]
     },
     "metadata": {},
     "output_type": "display_data"
    }
   ],
   "source": [
    "width = 0.2\n",
    "\n",
    "value_food_list = final_df.loc[final_df['item'] == 'Consumer Prices, Food Indices (2015 = 100)'].value.values.tolist()\n",
    "value_general_list = final_df.loc[final_df['item'] == 'Consumer Prices, General Indices (2015 = 100)'].value.values.tolist()\n",
    "value_food_price_deflator_list = final_df.loc[final_df['item'] == 'Food price inflation'].value.values.tolist()\n",
    "year_list = final_df.loc[final_df.item == 'Food price inflation'].year.values.tolist()\n",
    "\n",
    "x = np.arange(len(value_food_list))\n",
    "\n",
    "plt.bar(x-0.2, value_food_list, width, color='cyan')\n",
    "plt.bar(x, value_general_list, width, color='orange')\n",
    "plt.bar(x+0.2, value_food_price_deflator_list, width, color='green')\n",
    "plt.xticks(x, year_list)\n",
    "plt.xlabel(\"Years\")\n",
    "plt.ylabel(\"%\")\n",
    "plt.legend([\n",
    "    'Consumer Prices, Food Indices (2015 = 100)',\n",
    "    'Consumer Prices, General Indices (2015 = 100)',\n",
    "    'Food price inflation'\n",
    "])\n",
    "plt.show()"
   ]
  },
  {
   "cell_type": "code",
   "execution_count": 14,
   "id": "592035c7",
   "metadata": {},
   "outputs": [],
   "source": [
    "spark.stop()"
   ]
  }
 ],
 "metadata": {
  "kernelspec": {
   "display_name": "venv",
   "language": "python",
   "name": "venv"
  },
  "language_info": {
   "codemirror_mode": {
    "name": "ipython",
    "version": 3
   },
   "file_extension": ".py",
   "mimetype": "text/x-python",
   "name": "python",
   "nbconvert_exporter": "python",
   "pygments_lexer": "ipython3",
   "version": "3.9.13"
  }
 },
 "nbformat": 4,
 "nbformat_minor": 5
}
