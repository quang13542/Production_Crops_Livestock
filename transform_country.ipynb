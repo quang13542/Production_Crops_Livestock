{
 "cells": [
  {
   "cell_type": "code",
   "execution_count": 2,
   "id": "0f3e8b09",
   "metadata": {},
   "outputs": [],
   "source": [
    "# %pip install pyspark==3.4.1"
   ]
  },
  {
   "cell_type": "code",
   "execution_count": 3,
   "id": "9a2a348a",
   "metadata": {},
   "outputs": [],
   "source": [
    "import pyspark\n",
    "from pyspark.sql import SparkSession\n",
    "from pyspark.sql import functions as F\n",
    "# from pyspark.sql.functions import array, col\n",
    "from pyspark.sql.types import StructType,StructField, StringType, IntegerType"
   ]
  },
  {
   "cell_type": "code",
   "execution_count": 4,
   "id": "33a137e3",
   "metadata": {},
   "outputs": [],
   "source": [
    "import os\n",
    "cwd = os.getcwd()"
   ]
  },
  {
   "cell_type": "code",
   "execution_count": 5,
   "id": "24d647c3",
   "metadata": {},
   "outputs": [],
   "source": [
    "# spark = SparkSession.builder.master(\"local[1]\") \\\n",
    "#                     .appName('Country') \\\n",
    "#                     .getOrCreate()\n",
    "spark = SparkSession.builder \\\n",
    "                    .master(\"spark://127.0.0.1:7077\") \\\n",
    "                    .appName('Country') \\\n",
    "                    .getOrCreate()"
   ]
  },
  {
   "cell_type": "code",
   "execution_count": 6,
   "id": "b54d5576",
   "metadata": {},
   "outputs": [
    {
     "name": "stdout",
     "output_type": "stream",
     "text": [
      "root\n",
      " |-- Global Code: string (nullable = true)\n",
      " |-- Global Name: string (nullable = true)\n",
      " |-- Region Code: string (nullable = true)\n",
      " |-- Region Name: string (nullable = true)\n",
      " |-- Sub-region Code: string (nullable = true)\n",
      " |-- Sub-region Name: string (nullable = true)\n",
      " |-- Intermediate Region Code: string (nullable = true)\n",
      " |-- Intermediate Region Name: string (nullable = true)\n",
      " |-- Country or Area: string (nullable = true)\n",
      " |-- M49 Code: string (nullable = true)\n",
      " |-- ISO-alpha2 Code: string (nullable = true)\n",
      " |-- ISO-alpha3 Code: string (nullable = true)\n",
      " |-- Least Developed Countries (LDC): string (nullable = true)\n",
      " |-- Land Locked Developing Countries (LLDC): string (nullable = true)\n",
      " |-- Small Island Developing States (SIDS): string (nullable = true)\n",
      "\n",
      "root\n",
      " |-- Area Code: string (nullable = true)\n",
      " |-- M49 Code: string (nullable = true)\n",
      " |-- Area: string (nullable = true)\n",
      "\n"
     ]
    }
   ],
   "source": [
    "pcl_df = spark.read.option(\"header\", True)\\\n",
    "    .csv(f\"{cwd}/dataset/UNSD_Methodology.csv\")\n",
    "area_code_df = spark.read.option(\"header\", True)\\\n",
    "    .csv(f\"{cwd}/dataset/ConsumerPriceIndices_E_All_Data/ConsumerPriceIndices_E_AreaCodes.csv\")\n",
    "pcl_df.printSchema()\n",
    "area_code_df.printSchema()"
   ]
  },
  {
   "cell_type": "code",
   "execution_count": 7,
   "id": "09d1381a",
   "metadata": {},
   "outputs": [
    {
     "name": "stdout",
     "output_type": "stream",
     "text": [
      "+------+--------------------+---------------+------------------+-----------+-----------+\n",
      "|m49_id|             country|sub_region_code|   sub_region_name|region_code|region_name|\n",
      "+------+--------------------+---------------+------------------+-----------+-----------+\n",
      "|    12|             Algeria|             15|   Northern Africa|          2|     Africa|\n",
      "|   818|               Egypt|             15|   Northern Africa|          2|     Africa|\n",
      "|   434|               Libya|             15|   Northern Africa|          2|     Africa|\n",
      "|   504|             Morocco|             15|   Northern Africa|          2|     Africa|\n",
      "|   729|               Sudan|             15|   Northern Africa|          2|     Africa|\n",
      "|   788|             Tunisia|             15|   Northern Africa|          2|     Africa|\n",
      "|   732|      Western Sahara|             15|   Northern Africa|          2|     Africa|\n",
      "|    86|British Indian Oc...|            202|Sub-Saharan Africa|          2|     Africa|\n",
      "|   108|             Burundi|            202|Sub-Saharan Africa|          2|     Africa|\n",
      "|   174|             Comoros|            202|Sub-Saharan Africa|          2|     Africa|\n",
      "|   262|            Djibouti|            202|Sub-Saharan Africa|          2|     Africa|\n",
      "|   232|             Eritrea|            202|Sub-Saharan Africa|          2|     Africa|\n",
      "|   231|            Ethiopia|            202|Sub-Saharan Africa|          2|     Africa|\n",
      "|   260|French Southern T...|            202|Sub-Saharan Africa|          2|     Africa|\n",
      "|   404|               Kenya|            202|Sub-Saharan Africa|          2|     Africa|\n",
      "|   450|          Madagascar|            202|Sub-Saharan Africa|          2|     Africa|\n",
      "|   454|              Malawi|            202|Sub-Saharan Africa|          2|     Africa|\n",
      "|   480|           Mauritius|            202|Sub-Saharan Africa|          2|     Africa|\n",
      "|   175|             Mayotte|            202|Sub-Saharan Africa|          2|     Africa|\n",
      "|   508|          Mozambique|            202|Sub-Saharan Africa|          2|     Africa|\n",
      "+------+--------------------+---------------+------------------+-----------+-----------+\n",
      "only showing top 20 rows\n",
      "\n"
     ]
    }
   ],
   "source": [
    "pcl_df = pcl_df.select(\n",
    "    pcl_df['M49 Code'].alias('m49_id'),\n",
    "    pcl_df['Country or Area'].alias('country'),\n",
    "    pcl_df['Sub-region Code'].alias('sub_region_code'),\n",
    "    pcl_df['Sub-region Name'].alias('sub_region_name'),\n",
    "    pcl_df['Region Code'].alias('region_code'),\n",
    "    pcl_df['Region Name'].alias('region_name'),\n",
    ")\n",
    "pcl_df.show()"
   ]
  },
  {
   "cell_type": "code",
   "execution_count": 8,
   "id": "457e348e",
   "metadata": {},
   "outputs": [
    {
     "name": "stdout",
     "output_type": "stream",
     "text": [
      "+----+------+--------------------+\n",
      "|  id|m49_id|             country|\n",
      "+----+------+--------------------+\n",
      "|   2|     4|         Afghanistan|\n",
      "|5100|     2|              Africa|\n",
      "| 284|   248|       �land Islands|\n",
      "|   3|     8|             Albania|\n",
      "|   4|    12|             Algeria|\n",
      "|5200|    19|            Americas|\n",
      "|   6|    20|             Andorra|\n",
      "|   7|    24|              Angola|\n",
      "| 258|   660|            Anguilla|\n",
      "|   8|    28| Antigua and Barbuda|\n",
      "|   9|    32|           Argentina|\n",
      "|   1|    51|             Armenia|\n",
      "|  22|   533|               Aruba|\n",
      "|5300|   142|                Asia|\n",
      "|  10|    36|           Australia|\n",
      "|5501|    53|Australia and New...|\n",
      "|  11|    40|             Austria|\n",
      "|  52|    31|          Azerbaijan|\n",
      "|  12|    44|             Bahamas|\n",
      "|  13|    48|             Bahrain|\n",
      "+----+------+--------------------+\n",
      "only showing top 20 rows\n",
      "\n"
     ]
    }
   ],
   "source": [
    "area_code_df = area_code_df.select(\n",
    "    area_code_df['Area Code'].alias('id'),\n",
    "    F.translate(F.col(\"M49 Code\"), \"'\", \"\").cast(IntegerType()).alias(\"m49_id\"),\n",
    "    area_code_df['Area'].alias('country'),\n",
    ")\n",
    "area_code_df.show()"
   ]
  },
  {
   "cell_type": "code",
   "execution_count": 9,
   "id": "c97db36c",
   "metadata": {},
   "outputs": [
    {
     "name": "stdout",
     "output_type": "stream",
     "text": [
      "+---+-----------+---------------+------------------+-----------+-----------+\n",
      "| id|    country|sub_region_code|   sub_region_name|region_code|region_name|\n",
      "+---+-----------+---------------+------------------+-----------+-----------+\n",
      "|  4|    Algeria|             15|   Northern Africa|          2|     Africa|\n",
      "| 59|      Egypt|             15|   Northern Africa|          2|     Africa|\n",
      "|124|      Libya|             15|   Northern Africa|          2|     Africa|\n",
      "|143|    Morocco|             15|   Northern Africa|          2|     Africa|\n",
      "|276|      Sudan|             15|   Northern Africa|          2|     Africa|\n",
      "|222|    Tunisia|             15|   Northern Africa|          2|     Africa|\n",
      "| 29|    Burundi|            202|Sub-Saharan Africa|          2|     Africa|\n",
      "| 45|    Comoros|            202|Sub-Saharan Africa|          2|     Africa|\n",
      "| 72|   Djibouti|            202|Sub-Saharan Africa|          2|     Africa|\n",
      "|238|   Ethiopia|            202|Sub-Saharan Africa|          2|     Africa|\n",
      "|114|      Kenya|            202|Sub-Saharan Africa|          2|     Africa|\n",
      "|129| Madagascar|            202|Sub-Saharan Africa|          2|     Africa|\n",
      "|130|     Malawi|            202|Sub-Saharan Africa|          2|     Africa|\n",
      "|137|  Mauritius|            202|Sub-Saharan Africa|          2|     Africa|\n",
      "|144| Mozambique|            202|Sub-Saharan Africa|          2|     Africa|\n",
      "|182|    Réunion|            202|Sub-Saharan Africa|          2|     Africa|\n",
      "|184|     Rwanda|            202|Sub-Saharan Africa|          2|     Africa|\n",
      "|196| Seychelles|            202|Sub-Saharan Africa|          2|     Africa|\n",
      "|201|    Somalia|            202|Sub-Saharan Africa|          2|     Africa|\n",
      "|277|South Sudan|            202|Sub-Saharan Africa|          2|     Africa|\n",
      "+---+-----------+---------------+------------------+-----------+-----------+\n",
      "only showing top 20 rows\n",
      "\n"
     ]
    }
   ],
   "source": [
    "final_df = pcl_df.join(area_code_df, pcl_df.m49_id == area_code_df.m49_id, 'inner').select(\n",
    "    area_code_df.id,\n",
    "    pcl_df.country,\n",
    "    pcl_df.sub_region_code,\n",
    "    pcl_df.sub_region_name,\n",
    "    pcl_df.region_code,\n",
    "    pcl_df.region_name,\n",
    ")\n",
    "final_df.show()"
   ]
  },
  {
   "cell_type": "code",
   "execution_count": 10,
   "id": "a73fb6d3",
   "metadata": {},
   "outputs": [],
   "source": [
    "final_df.write\\\n",
    "    .mode(\"overwrite\") \\\n",
    "    .parquet(\"hdfs://127.0.0.1:9000/FAOSTAT_prj/DataWarehouse/Country\")"
   ]
  },
  {
   "cell_type": "code",
   "execution_count": 11,
   "id": "a2b9e179",
   "metadata": {},
   "outputs": [],
   "source": [
    "spark.stop()"
   ]
  }
 ],
 "metadata": {
  "kernelspec": {
   "display_name": "Python 3 (ipykernel)",
   "language": "python",
   "name": "python3"
  },
  "language_info": {
   "codemirror_mode": {
    "name": "ipython",
    "version": 3
   },
   "file_extension": ".py",
   "mimetype": "text/x-python",
   "name": "python",
   "nbconvert_exporter": "python",
   "pygments_lexer": "ipython3",
   "version": "3.9.13"
  }
 },
 "nbformat": 4,
 "nbformat_minor": 5
}
