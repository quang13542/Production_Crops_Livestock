{
 "cells": [
  {
   "cell_type": "code",
   "execution_count": 11,
   "metadata": {},
   "outputs": [],
   "source": [
    "# %pip install pyspark==3.4.1"
   ]
  },
  {
   "cell_type": "code",
   "execution_count": 12,
   "metadata": {},
   "outputs": [],
   "source": [
    "import pyspark\n",
    "from pyspark.sql import SparkSession\n",
    "from pyspark.sql import functions as F\n",
    "# from pyspark.sql.functions import array, col\n",
    "from pyspark.sql.types import StructType,StructField, StringType, IntegerType\n",
    "import datetime"
   ]
  },
  {
   "cell_type": "code",
   "execution_count": 13,
   "metadata": {},
   "outputs": [],
   "source": [
    "import os\n",
    "cwd = os.getcwd()"
   ]
  },
  {
   "cell_type": "code",
   "execution_count": 14,
   "metadata": {},
   "outputs": [],
   "source": [
    "spark = SparkSession.builder \\\n",
    "                    .master(\"spark://127.0.0.1:7077\") \\\n",
    "                    .appName('TradeDetailedTradeMatrix') \\\n",
    "                    .getOrCreate()\n",
    "# spark = SparkSession.builder.master(\"local[1]\") \\\n",
    "#                     .appName('TradeDetailedTradeMatrix') \\\n",
    "#                     .getOrCreate()"
   ]
  },
  {
   "cell_type": "code",
   "execution_count": 15,
   "metadata": {},
   "outputs": [],
   "source": [
    "tdtm_df = spark.read.option(\"header\", True)\\\n",
    "    .csv(f\"{cwd}/dataset/Trade_DetailedTradeMatrix_E_All_Data/Trade_DetailedTradeMatrix_E_All_Data.csv\")\n",
    "# tdtm_df.printSchema()"
   ]
  },
  {
   "cell_type": "code",
   "execution_count": 16,
   "metadata": {},
   "outputs": [],
   "source": [
    "col_name = []\n",
    "for col in tdtm_df.dtypes:\n",
    "    col_name.append(col[0])\n",
    "# col_name"
   ]
  },
  {
   "cell_type": "code",
   "execution_count": 17,
   "metadata": {},
   "outputs": [],
   "source": [
    "year_list = []\n",
    "for x in col_name:\n",
    "    if 'Y' in x and 'F' not in x:\n",
    "        year_list.append(int(x.replace('Y', '')))\n",
    "# year_list"
   ]
  },
  {
   "cell_type": "code",
   "execution_count": 19,
   "metadata": {},
   "outputs": [
    {
     "name": "stdout",
     "output_type": "stream",
     "text": [
      "+-------------------+------------------+------------+----------------+-----+----+----+--------------------+\n",
      "|reporter_country_id|partner_country_id|item_prod_id|element_trade_id|value|flag|year|    transformed_date|\n",
      "+-------------------+------------------+------------+----------------+-----+----+----+--------------------+\n",
      "|                  2|                 4|         230|            5910| null|null|1986|2023-07-25 16:50:...|\n",
      "|                  2|                 4|         230|            5910| null|null|1987|2023-07-25 16:50:...|\n",
      "|                  2|                 4|         230|            5910| null|null|1988|2023-07-25 16:50:...|\n",
      "|                  2|                 4|         230|            5910| null|null|1989|2023-07-25 16:50:...|\n",
      "|                  2|                 4|         230|            5910| null|null|1990|2023-07-25 16:50:...|\n",
      "|                  2|                 4|         230|            5910| null|null|1991|2023-07-25 16:50:...|\n",
      "|                  2|                 4|         230|            5910| null|null|1992|2023-07-25 16:50:...|\n",
      "|                  2|                 4|         230|            5910| null|null|1993|2023-07-25 16:50:...|\n",
      "|                  2|                 4|         230|            5910| null|null|1994|2023-07-25 16:50:...|\n",
      "|                  2|                 4|         230|            5910| null|null|1995|2023-07-25 16:50:...|\n",
      "|                  2|                 4|         230|            5910| null|null|1996|2023-07-25 16:50:...|\n",
      "|                  2|                 4|         230|            5910| null|null|1997|2023-07-25 16:50:...|\n",
      "|                  2|                 4|         230|            5910| null|null|1998|2023-07-25 16:50:...|\n",
      "|                  2|                 4|         230|            5910| null|null|1999|2023-07-25 16:50:...|\n",
      "|                  2|                 4|         230|            5910| null|null|2000|2023-07-25 16:50:...|\n",
      "|                  2|                 4|         230|            5910| null|null|2001|2023-07-25 16:50:...|\n",
      "|                  2|                 4|         230|            5910| null|null|2002|2023-07-25 16:50:...|\n",
      "|                  2|                 4|         230|            5910| null|null|2003|2023-07-25 16:50:...|\n",
      "|                  2|                 4|         230|            5910| null|null|2004|2023-07-25 16:50:...|\n",
      "|                  2|                 4|         230|            5910| null|null|2005|2023-07-25 16:50:...|\n",
      "+-------------------+------------------+------------+----------------+-----+----+----+--------------------+\n",
      "only showing top 20 rows\n",
      "\n"
     ]
    }
   ],
   "source": [
    "for year in year_list:\n",
    "    tdtm_df = tdtm_df.withColumn(f\"NewColumn_{year}\", F.array(f\"Y{year}\", f\"Y{year}F\", F.lit(year)))\n",
    "    tdtm_df = tdtm_df.drop(f\"Y{year}\", f\"Y{year}F\")\n",
    "    \n",
    "tdtm_df = tdtm_df.withColumn(f\"merge_column\", F.array(*[f\"NewColumn_{year}\" for year in year_list]))\n",
    "transformed_date = datetime.datetime.now()\n",
    "for year in year_list:\n",
    "    tdtm_df = tdtm_df.drop(f\"NewColumn_{year}\")\n",
    "tdtm_df = tdtm_df.select(\n",
    "    tdtm_df['Reporter Country Code'].cast('int').alias('reporter_country_id'),\n",
    "    tdtm_df['Partner Country Code'].cast('int').alias('partner_country_id'),\n",
    "    tdtm_df['Item Code'].cast('int').alias('item_prod_id'),\n",
    "    tdtm_df['Element Code'].cast('int').alias('element_trade_id'),\n",
    "    F.explode('merge_column').alias('year_col')\n",
    ")\n",
    "tdtm_df = tdtm_df.withColumn('value', F.lit(tdtm_df.year_col[0])) \\\n",
    "                .withColumn('flag', F.lit(tdtm_df.year_col[1])) \\\n",
    "                .withColumn('year', F.lit(tdtm_df.year_col[2])) \\\n",
    "                .withColumn('transformed_date', F.lit(transformed_date))\n",
    "tdtm_df = tdtm_df.drop('year_col')\n",
    "tdtm_df.show()"
   ]
  },
  {
   "cell_type": "code",
   "execution_count": 20,
   "metadata": {},
   "outputs": [],
   "source": [
    "tdtm_df.write\\\n",
    "    .mode(\"overwrite\") \\\n",
    "    .parquet(\"hdfs://127.0.0.1:9000/FAOSTAT_prj/DataWarehouse/Trade_Detailed_Matrix\")"
   ]
  },
  {
   "cell_type": "code",
   "execution_count": 23,
   "metadata": {},
   "outputs": [],
   "source": [
    "spark.stop()"
   ]
  }
 ],
 "metadata": {
  "kernelspec": {
   "display_name": "Python 3 (ipykernel)",
   "language": "python",
   "name": "python3"
  },
  "language_info": {
   "codemirror_mode": {
    "name": "ipython",
    "version": 3
   },
   "file_extension": ".py",
   "mimetype": "text/x-python",
   "name": "python",
   "nbconvert_exporter": "python",
   "pygments_lexer": "ipython3",
   "version": "3.9.13"
  }
 },
 "nbformat": 4,
 "nbformat_minor": 2
}
