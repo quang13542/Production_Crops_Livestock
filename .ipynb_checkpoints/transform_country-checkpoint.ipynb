{
 "cells": [
  {
   "cell_type": "code",
   "execution_count": 8,
   "id": "0f3e8b09",
   "metadata": {},
   "outputs": [],
   "source": [
    "# %pip install pyspark==3.4.1"
   ]
  },
  {
   "cell_type": "code",
   "execution_count": 9,
   "id": "9a2a348a",
   "metadata": {},
   "outputs": [],
   "source": [
    "import pyspark\n",
    "from pyspark.sql import SparkSession\n",
    "from pyspark.sql import functions as F\n",
    "# from pyspark.sql.functions import array, col\n",
    "from pyspark.sql.types import StructType,StructField, StringType, IntegerType"
   ]
  },
  {
   "cell_type": "code",
   "execution_count": 10,
   "id": "33a137e3",
   "metadata": {},
   "outputs": [],
   "source": [
    "import os\n",
    "cwd = os.getcwd()"
   ]
  },
  {
   "cell_type": "code",
   "execution_count": 11,
   "id": "24d647c3",
   "metadata": {},
   "outputs": [],
   "source": [
    "spark = SparkSession.builder.master(\"local[1]\") \\\n",
    "                    .appName('Country') \\\n",
    "                    .getOrCreate()\n",
    "# spark = SparkSession.builder \\\n",
    "#                     .master(\"spark://127.0.0.1:7077\") \\\n",
    "#                     .appName('Country') \\\n",
    "#                     .getOrCreate()"
   ]
  },
  {
   "cell_type": "code",
   "execution_count": 12,
   "id": "b54d5576",
   "metadata": {},
   "outputs": [
    {
     "name": "stdout",
     "output_type": "stream",
     "text": [
      "root\n",
      " |-- Global Code: string (nullable = true)\n",
      " |-- Global Name: string (nullable = true)\n",
      " |-- Region Code: string (nullable = true)\n",
      " |-- Region Name: string (nullable = true)\n",
      " |-- Sub-region Code: string (nullable = true)\n",
      " |-- Sub-region Name: string (nullable = true)\n",
      " |-- Intermediate Region Code: string (nullable = true)\n",
      " |-- Intermediate Region Name: string (nullable = true)\n",
      " |-- Country or Area: string (nullable = true)\n",
      " |-- M49 Code: string (nullable = true)\n",
      " |-- ISO-alpha2 Code: string (nullable = true)\n",
      " |-- ISO-alpha3 Code: string (nullable = true)\n",
      " |-- Least Developed Countries (LDC): string (nullable = true)\n",
      " |-- Land Locked Developing Countries (LLDC): string (nullable = true)\n",
      " |-- Small Island Developing States (SIDS): string (nullable = true)\n",
      "\n"
     ]
    }
   ],
   "source": [
    "pcl_df = spark.read.option(\"header\", True)\\\n",
    "    .csv(f\"{cwd}/dataset/UNSD_Methodology.csv\")\n",
    "pcl_df.printSchema()"
   ]
  },
  {
   "cell_type": "code",
   "execution_count": 13,
   "id": "09d1381a",
   "metadata": {},
   "outputs": [
    {
     "name": "stdout",
     "output_type": "stream",
     "text": [
      "+---+--------------------+---------------+------------------+-----------+-----------+\n",
      "| id|             country|sub_region_code|   sub_region_name|region_code|region_name|\n",
      "+---+--------------------+---------------+------------------+-----------+-----------+\n",
      "| 12|             Algeria|             15|   Northern Africa|          2|     Africa|\n",
      "|818|               Egypt|             15|   Northern Africa|          2|     Africa|\n",
      "|434|               Libya|             15|   Northern Africa|          2|     Africa|\n",
      "|504|             Morocco|             15|   Northern Africa|          2|     Africa|\n",
      "|729|               Sudan|             15|   Northern Africa|          2|     Africa|\n",
      "|788|             Tunisia|             15|   Northern Africa|          2|     Africa|\n",
      "|732|      Western Sahara|             15|   Northern Africa|          2|     Africa|\n",
      "| 86|British Indian Oc...|            202|Sub-Saharan Africa|          2|     Africa|\n",
      "|108|             Burundi|            202|Sub-Saharan Africa|          2|     Africa|\n",
      "|174|             Comoros|            202|Sub-Saharan Africa|          2|     Africa|\n",
      "|262|            Djibouti|            202|Sub-Saharan Africa|          2|     Africa|\n",
      "|232|             Eritrea|            202|Sub-Saharan Africa|          2|     Africa|\n",
      "|231|            Ethiopia|            202|Sub-Saharan Africa|          2|     Africa|\n",
      "|260|French Southern T...|            202|Sub-Saharan Africa|          2|     Africa|\n",
      "|404|               Kenya|            202|Sub-Saharan Africa|          2|     Africa|\n",
      "|450|          Madagascar|            202|Sub-Saharan Africa|          2|     Africa|\n",
      "|454|              Malawi|            202|Sub-Saharan Africa|          2|     Africa|\n",
      "|480|           Mauritius|            202|Sub-Saharan Africa|          2|     Africa|\n",
      "|175|             Mayotte|            202|Sub-Saharan Africa|          2|     Africa|\n",
      "|508|          Mozambique|            202|Sub-Saharan Africa|          2|     Africa|\n",
      "+---+--------------------+---------------+------------------+-----------+-----------+\n",
      "only showing top 20 rows\n",
      "\n"
     ]
    }
   ],
   "source": [
    "pcl_df = pcl_df.select(\n",
    "    pcl_df['M49 Code'].alias('id'),\n",
    "    pcl_df['Country or Area'].alias('country'),\n",
    "    pcl_df['Sub-region Code'].alias('sub_region_code'),\n",
    "    pcl_df['Sub-region Name'].alias('sub_region_name'),\n",
    "    pcl_df['Region Code'].alias('region_code'),\n",
    "    pcl_df['Region Name'].alias('region_name'),\n",
    ")\n",
    "pcl_df.show()"
   ]
  },
  {
   "cell_type": "code",
   "execution_count": 14,
   "id": "a73fb6d3",
   "metadata": {},
   "outputs": [],
   "source": [
    "pcl_df.write\\\n",
    "    .mode(\"overwrite\") \\\n",
    "    .parquet(\"hdfs://127.0.0.1:9000/FAOSTAT_prj/DataWarehouse/Country\")"
   ]
  },
  {
   "cell_type": "code",
   "execution_count": 15,
   "id": "a2b9e179",
   "metadata": {},
   "outputs": [],
   "source": [
    "spark.stop()"
   ]
  }
 ],
 "metadata": {
  "kernelspec": {
   "display_name": "Python 3 (ipykernel)",
   "language": "python",
   "name": "python3"
  },
  "language_info": {
   "codemirror_mode": {
    "name": "ipython",
    "version": 3
   },
   "file_extension": ".py",
   "mimetype": "text/x-python",
   "name": "python",
   "nbconvert_exporter": "python",
   "pygments_lexer": "ipython3",
   "version": "3.9.13"
  }
 },
 "nbformat": 4,
 "nbformat_minor": 5
}
