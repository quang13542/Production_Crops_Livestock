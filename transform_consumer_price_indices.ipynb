{
 "cells": [
  {
   "cell_type": "code",
   "execution_count": 2,
   "metadata": {},
   "outputs": [],
   "source": [
    "# %pip install pyspark==3.4.1"
   ]
  },
  {
   "cell_type": "code",
   "execution_count": 3,
   "metadata": {},
   "outputs": [],
   "source": [
    "import pyspark\n",
    "from pyspark.sql import SparkSession\n",
    "from pyspark.sql import functions as F\n",
    "# from pyspark.sql.functions import array, col\n",
    "from pyspark.sql.types import StructType,StructField, StringType, IntegerType\n",
    "import datetime"
   ]
  },
  {
   "cell_type": "code",
   "execution_count": 4,
   "metadata": {},
   "outputs": [],
   "source": [
    "import os\n",
    "cwd = os.getcwd()"
   ]
  },
  {
   "cell_type": "code",
   "execution_count": 5,
   "metadata": {},
   "outputs": [],
   "source": [
    "spark = SparkSession.builder.master(\"spark://127.0.0.1:7077\") \\\n",
    "                    .appName('ConsumerPriceIndices') \\\n",
    "                    .getOrCreate()\n",
    "# spark = SparkSession.builder.master(\"local[1]\") \\\n",
    "#                     .appName('ConsumerPriceIndices') \\\n",
    "#                     .getOrCreate()"
   ]
  },
  {
   "cell_type": "code",
   "execution_count": 6,
   "metadata": {},
   "outputs": [],
   "source": [
    "cpi_df = spark.read.option(\"header\", True)\\\n",
    "    .csv(f\"{cwd}/dataset/ConsumerPriceIndices_E_All_Data/ConsumerPriceIndices_E_All_Data.csv\")\n",
    "# cpi_df.printSchema()"
   ]
  },
  {
   "cell_type": "code",
   "execution_count": 7,
   "metadata": {},
   "outputs": [],
   "source": [
    "col_name = []\n",
    "for col in cpi_df.dtypes:\n",
    "    col_name.append(col[0])\n",
    "# col_name"
   ]
  },
  {
   "cell_type": "code",
   "execution_count": 8,
   "metadata": {},
   "outputs": [],
   "source": [
    "year_list = []\n",
    "for x in col_name:\n",
    "    if 'Y' in x and 'F' not in x and 'N' not in x:\n",
    "        year_list.append(int(x.replace('Y', '')))\n",
    "# year_list"
   ]
  },
  {
   "cell_type": "code",
   "execution_count": 9,
   "metadata": {},
   "outputs": [
    {
     "name": "stdout",
     "output_type": "stream",
     "text": [
      "+-----+--------------------+----+\n",
      "|   id|                item|unit|\n",
      "+-----+--------------------+----+\n",
      "|23012|Consumer Prices, ...|null|\n",
      "|23013|Consumer Prices, ...|null|\n",
      "|23014|Food price inflation|   %|\n",
      "+-----+--------------------+----+\n",
      "\n"
     ]
    }
   ],
   "source": [
    "ItemCPI_df = cpi_df.select(\n",
    "    cpi_df['Item Code'].cast('int').alias('id'),\n",
    "    cpi_df['Item'].cast('string').alias('item'),\n",
    "    cpi_df['Unit'].cast('string').alias('unit'),\n",
    ").orderBy('id')\n",
    "ItemCPI_df = ItemCPI_df.dropDuplicates([\"id\"])\n",
    "ItemCPI_df.show()"
   ]
  },
  {
   "cell_type": "code",
   "execution_count": 10,
   "metadata": {},
   "outputs": [
    {
     "name": "stdout",
     "output_type": "stream",
     "text": [
      "+----------+-----------+--------+----------+----+-----------------+----+--------------------+\n",
      "|country_id|item_cpi_id|month_id|     value|flag|        base_year|year|    transformed_date|\n",
      "+----------+-----------+--------+----------+----+-----------------+----+--------------------+\n",
      "|         2|      23013|    7001| 24.356332|   I|base year is 2015|2000|2023-07-26 19:59:...|\n",
      "|         2|      23013|    7001| 29.944592|   I|base year is 2015|2001|2023-07-26 19:59:...|\n",
      "|         2|      23013|    7001| 33.421952|   I|base year is 2015|2002|2023-07-26 19:59:...|\n",
      "|         2|      23013|    7001| 39.967661|   I|base year is 2015|2003|2023-07-26 19:59:...|\n",
      "|         2|      23013|    7001| 43.401939|   I|base year is 2015|2004|2023-07-26 19:59:...|\n",
      "|         2|      23013|    7001| 48.779789|   X|base year is 2015|2005|2023-07-26 19:59:...|\n",
      "|         2|      23013|    7001| 53.967956|   X|base year is 2015|2006|2023-07-26 19:59:...|\n",
      "|         2|      23013|    7001| 56.689401|   X|base year is 2015|2007|2023-07-26 19:59:...|\n",
      "|         2|      23013|    7001| 73.872511|   X|base year is 2015|2008|2023-07-26 19:59:...|\n",
      "|         2|      23013|    7001| 86.232258|   X|base year is 2015|2009|2023-07-26 19:59:...|\n",
      "|         2|      23013|    7001| 71.506529|   X|base year is 2015|2010|2023-07-26 19:59:...|\n",
      "|         2|      23013|    7001| 82.548897|   X|base year is 2015|2011|2023-07-26 19:59:...|\n",
      "|         2|      23013|    7001| 86.835669|   X|base year is 2015|2012|2023-07-26 19:59:...|\n",
      "|         2|      23013|    7001| 91.234802|   X|base year is 2015|2013|2023-07-26 19:59:...|\n",
      "|         2|      23013|    7001| 99.530273|   X|base year is 2015|2014|2023-07-26 19:59:...|\n",
      "|         2|      23013|    7001|102.473425|   X|base year is 2015|2015|2023-07-26 19:59:...|\n",
      "|         2|      23013|    7001|103.618233|   X|base year is 2015|2016|2023-07-26 19:59:...|\n",
      "|         2|      23013|    7001|108.520050|   X|base year is 2015|2017|2023-07-26 19:59:...|\n",
      "|         2|      23013|    7001|114.527725|   X|base year is 2015|2018|2023-07-26 19:59:...|\n",
      "|         2|      23013|    7001|114.054183|   X|base year is 2015|2019|2023-07-26 19:59:...|\n",
      "+----------+-----------+--------+----------+----+-----------------+----+--------------------+\n",
      "only showing top 20 rows\n",
      "\n"
     ]
    }
   ],
   "source": [
    "for year in year_list:\n",
    "    cpi_df = cpi_df.withColumn(f\"NewColumn_{year}\", F.array(f\"Y{year}\", f\"Y{year}F\", f\"Y{year}N\", F.lit(year)))\n",
    "    cpi_df = cpi_df.drop(f\"Y{year}\", f\"Y{year}F\")\n",
    "    \n",
    "cpi_df = cpi_df.withColumn(f\"merge_column\", F.array(*[f\"NewColumn_{year}\" for year in year_list]))\n",
    "transformed_date = datetime.datetime.now()\n",
    "for year in year_list:\n",
    "    cpi_df = cpi_df.drop(f\"NewColumn_{year}\")\n",
    "cpi_df = cpi_df.select(\n",
    "    cpi_df['Area Code'].cast('int').alias('country_id'),\n",
    "    cpi_df['Item Code'].cast('int').alias('item_cpi_id'),\n",
    "    cpi_df['Months Code'].cast('int').alias('month_id'),\n",
    "    F.explode('merge_column').alias('year_col')\n",
    ")\n",
    "cpi_df = cpi_df.withColumn('value', F.lit(cpi_df.year_col[0])) \\\n",
    "                .withColumn('flag', F.lit(cpi_df.year_col[1])) \\\n",
    "                .withColumn('base_year', F.lit(cpi_df.year_col[2])) \\\n",
    "                .withColumn('year', F.lit(cpi_df.year_col[3])) \\\n",
    "                .withColumn('transformed_date', F.lit(transformed_date))\n",
    "cpi_df = cpi_df.drop('year_col')\n",
    "cpi_df.show()"
   ]
  },
  {
   "cell_type": "code",
   "execution_count": 11,
   "metadata": {},
   "outputs": [],
   "source": [
    "ItemCPI_df.write\\\n",
    "    .mode(\"overwrite\") \\\n",
    "    .parquet(\"hdfs://127.0.0.1:9000/FAOSTAT_prj/DataWarehouse/Item_CPI\")"
   ]
  },
  {
   "cell_type": "code",
   "execution_count": 12,
   "metadata": {},
   "outputs": [],
   "source": [
    "cpi_df.write\\\n",
    "    .mode(\"overwrite\") \\\n",
    "    .parquet(\"hdfs://127.0.0.1:9000/FAOSTAT_prj/DataWarehouse/CPI\")"
   ]
  },
  {
   "cell_type": "code",
   "execution_count": 13,
   "metadata": {},
   "outputs": [],
   "source": [
    "spark.stop()"
   ]
  }
 ],
 "metadata": {
  "kernelspec": {
   "display_name": "venv",
   "language": "python",
   "name": "venv"
  },
  "language_info": {
   "codemirror_mode": {
    "name": "ipython",
    "version": 3
   },
   "file_extension": ".py",
   "mimetype": "text/x-python",
   "name": "python",
   "nbconvert_exporter": "python",
   "pygments_lexer": "ipython3",
   "version": "3.9.13"
  }
 },
 "nbformat": 4,
 "nbformat_minor": 2
}
