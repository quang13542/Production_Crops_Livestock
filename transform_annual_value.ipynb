{
 "cells": [
  {
   "cell_type": "code",
   "execution_count": 2,
   "metadata": {},
   "outputs": [],
   "source": [
    "# %pip install pyspark==3.4.1"
   ]
  },
  {
   "cell_type": "code",
   "execution_count": 3,
   "metadata": {},
   "outputs": [],
   "source": [
    "import pyspark\n",
    "from pyspark.sql import SparkSession\n",
    "from pyspark.sql import functions as F\n",
    "# from pyspark.sql.functions import array, col\n",
    "from pyspark.sql.types import StructType,StructField, StringType, IntegerType\n",
    "import datetime"
   ]
  },
  {
   "cell_type": "code",
   "execution_count": 4,
   "metadata": {},
   "outputs": [],
   "source": [
    "import os\n",
    "cwd = os.getcwd()"
   ]
  },
  {
   "cell_type": "code",
   "execution_count": 5,
   "metadata": {},
   "outputs": [],
   "source": [
    "spark = SparkSession.builder \\\n",
    "                    .master(\"spark://127.0.0.1:7077\") \\\n",
    "                    .appName('AnnualValue') \\\n",
    "                    .getOrCreate()\n",
    "# spark = SparkSession.builder \\\n",
    "#                     .master(\"local[1]\") \\\n",
    "#                     .appName('AnnualValue') \\\n",
    "#                     .getOrCreate()"
   ]
  },
  {
   "cell_type": "code",
   "execution_count": 6,
   "metadata": {},
   "outputs": [],
   "source": [
    "pcl_df = spark.read.option(\"header\", True)\\\n",
    "    .csv(f\"{cwd}/dataset/Production_Crops_Livestock_E_All_Data/Production_Crops_Livestock_E_All_Data.csv\")\n",
    "# pcl_df.printSchema()"
   ]
  },
  {
   "cell_type": "code",
   "execution_count": 7,
   "metadata": {},
   "outputs": [],
   "source": [
    "col_name = []\n",
    "for col in pcl_df.dtypes:\n",
    "    col_name.append(col[0])\n",
    "# col_name"
   ]
  },
  {
   "cell_type": "code",
   "execution_count": 8,
   "metadata": {},
   "outputs": [],
   "source": [
    "year_list = []\n",
    "for x in col_name:\n",
    "    if 'Y' in x and 'F' not in x:\n",
    "        year_list.append(int(x.replace('Y', '')))\n",
    "# year_list"
   ]
  },
  {
   "cell_type": "code",
   "execution_count": 9,
   "metadata": {},
   "outputs": [
    {
     "name": "stdout",
     "output_type": "stream",
     "text": [
      "+----+--------------------+---------+\n",
      "|  id|             element|     unit|\n",
      "+----+--------------------+---------+\n",
      "|5111|              Stocks|     Head|\n",
      "|5112|              Stocks|1000 Head|\n",
      "|5114|              Stocks|       No|\n",
      "|5312|      Area harvested|       ha|\n",
      "|5313|              Laying|1000 Head|\n",
      "|5314|        Prod Popultn|       No|\n",
      "|5318|        Milk Animals|     Head|\n",
      "|5320|Producing Animals...|     Head|\n",
      "|5321|Producing Animals...|1000 Head|\n",
      "|5410|               Yield| 100mg/An|\n",
      "|5413|               Yield|    No/An|\n",
      "|5417|Yield/Carcass Weight|    hg/An|\n",
      "|5419|               Yield|    hg/ha|\n",
      "|5420|               Yield|    hg/An|\n",
      "|5422|               Yield|       hg|\n",
      "|5424|Yield/Carcass Weight|  0.1g/An|\n",
      "|5510|          Production|   tonnes|\n",
      "|5513|          Production|  1000 No|\n",
      "+----+--------------------+---------+\n",
      "\n"
     ]
    }
   ],
   "source": [
    "ElementProd_df = pcl_df.select(\n",
    "    pcl_df['Element Code'].cast('int').alias('id'),\n",
    "    pcl_df['Element'].cast('string').alias('element'),\n",
    "    pcl_df['Unit'].cast('string').alias('unit'),\n",
    ").orderBy('id')\n",
    "ElementProd_df = ElementProd_df.dropDuplicates([\"id\"])\n",
    "ElementProd_df.show()"
   ]
  },
  {
   "cell_type": "code",
   "execution_count": 10,
   "metadata": {},
   "outputs": [
    {
     "name": "stdout",
     "output_type": "stream",
     "text": [
      "+----------+------------+---------------+-----------+----+----+--------------------+\n",
      "|country_id|item_prod_id|element_prod_id|      value|flag|year|    transformed_date|\n",
      "+----------+------------+---------------+-----------+----+----+--------------------+\n",
      "|         2|         221|           5312|       null|null|1961|2023-07-26 19:57:...|\n",
      "|         2|         221|           5312|       null|null|1962|2023-07-26 19:57:...|\n",
      "|         2|         221|           5312|       null|null|1963|2023-07-26 19:57:...|\n",
      "|         2|         221|           5312|       null|null|1964|2023-07-26 19:57:...|\n",
      "|         2|         221|           5312|       null|null|1965|2023-07-26 19:57:...|\n",
      "|         2|         221|           5312|       null|null|1966|2023-07-26 19:57:...|\n",
      "|         2|         221|           5312|       null|null|1967|2023-07-26 19:57:...|\n",
      "|         2|         221|           5312|       null|null|1968|2023-07-26 19:57:...|\n",
      "|         2|         221|           5312|       null|null|1969|2023-07-26 19:57:...|\n",
      "|         2|         221|           5312|       null|null|1970|2023-07-26 19:57:...|\n",
      "|         2|         221|           5312|       null|null|1971|2023-07-26 19:57:...|\n",
      "|         2|         221|           5312|       null|null|1972|2023-07-26 19:57:...|\n",
      "|         2|         221|           5312|       null|null|1973|2023-07-26 19:57:...|\n",
      "|         2|         221|           5312|       null|null|1974|2023-07-26 19:57:...|\n",
      "|         2|         221|           5312|   0.000000|   E|1975|2023-07-26 19:57:...|\n",
      "|         2|         221|           5312|5900.000000|   E|1976|2023-07-26 19:57:...|\n",
      "|         2|         221|           5312|6000.000000|   E|1977|2023-07-26 19:57:...|\n",
      "|         2|         221|           5312|6000.000000|   E|1978|2023-07-26 19:57:...|\n",
      "|         2|         221|           5312|6000.000000|   E|1979|2023-07-26 19:57:...|\n",
      "|         2|         221|           5312|5800.000000|   E|1980|2023-07-26 19:57:...|\n",
      "+----------+------------+---------------+-----------+----+----+--------------------+\n",
      "only showing top 20 rows\n",
      "\n"
     ]
    }
   ],
   "source": [
    "for year in year_list:\n",
    "    pcl_df = pcl_df.withColumn(f\"NewColumn_{year}\", F.array(f\"Y{year}\", f\"Y{year}F\", F.lit(year)))\n",
    "    pcl_df = pcl_df.drop(f\"Y{year}\", f\"Y{year}F\")\n",
    "    \n",
    "pcl_df = pcl_df.withColumn(f\"merge_column\", F.array(*[f\"NewColumn_{year}\" for year in year_list]))\n",
    "transformed_date = datetime.datetime.now()\n",
    "for year in year_list:\n",
    "    pcl_df = pcl_df.drop(f\"NewColumn_{year}\")\n",
    "pcl_df = pcl_df.select(\n",
    "    pcl_df['Area Code'].cast('int').alias('country_id'),\n",
    "    pcl_df['Item Code'].cast('int').alias('item_prod_id'),\n",
    "    pcl_df['Element Code'].cast('int').alias('element_prod_id'),\n",
    "    F.explode('merge_column').alias('year_col')\n",
    ")\n",
    "pcl_df = pcl_df.withColumn('value', F.lit(pcl_df.year_col[0])) \\\n",
    "                .withColumn('flag', F.lit(pcl_df.year_col[1])) \\\n",
    "                .withColumn('year', F.lit(pcl_df.year_col[2])) \\\n",
    "                .withColumn('transformed_date', F.lit(transformed_date))\n",
    "pcl_df = pcl_df.drop('year_col')\n",
    "pcl_df.show()"
   ]
  },
  {
   "cell_type": "code",
   "execution_count": 11,
   "metadata": {},
   "outputs": [],
   "source": [
    "pcl_df.write\\\n",
    "    .mode(\"overwrite\") \\\n",
    "    .parquet(\"hdfs://127.0.0.1:9000/FAOSTAT_prj/DataWarehouse/Production_Crops_Livestock\")"
   ]
  },
  {
   "cell_type": "code",
   "execution_count": 12,
   "metadata": {},
   "outputs": [],
   "source": [
    "ElementProd_df.write\\\n",
    "    .mode(\"overwrite\") \\\n",
    "    .parquet(\"hdfs://127.0.0.1:9000/FAOSTAT_prj/DataWarehouse/Element_Prod\")"
   ]
  },
  {
   "cell_type": "code",
   "execution_count": 13,
   "metadata": {},
   "outputs": [],
   "source": [
    "spark.stop()"
   ]
  }
 ],
 "metadata": {
  "kernelspec": {
   "display_name": "Python 3 (ipykernel)",
   "language": "python",
   "name": "python3"
  },
  "language_info": {
   "codemirror_mode": {
    "name": "ipython",
    "version": 3
   },
   "file_extension": ".py",
   "mimetype": "text/x-python",
   "name": "python",
   "nbconvert_exporter": "python",
   "pygments_lexer": "ipython3",
   "version": "3.9.13"
  }
 },
 "nbformat": 4,
 "nbformat_minor": 2
}
