{
 "cells": [
  {
   "cell_type": "code",
   "execution_count": 2,
   "metadata": {},
   "outputs": [],
   "source": [
    "# %pip install pyspark==3.4.1"
   ]
  },
  {
   "cell_type": "code",
   "execution_count": 3,
   "metadata": {},
   "outputs": [],
   "source": [
    "import pyspark\n",
    "from pyspark.sql import SparkSession\n",
    "from pyspark.sql import functions as F\n",
    "# from pyspark.sql.functions import array, col\n",
    "from pyspark.sql.types import StructType,StructField, StringType, IntegerType\n",
    "import datetime"
   ]
  },
  {
   "cell_type": "code",
   "execution_count": 4,
   "metadata": {},
   "outputs": [],
   "source": [
    "import os\n",
    "cwd = os.getcwd()"
   ]
  },
  {
   "cell_type": "code",
   "execution_count": 5,
   "metadata": {},
   "outputs": [],
   "source": [
    "spark = SparkSession.builder \\\n",
    "                    .master(\"spark://127.0.0.1:7077\") \\\n",
    "                    .appName('TradeCropsLivestock') \\\n",
    "                    .getOrCreate()\n",
    "# spark = SparkSession.builder \\\n",
    "#                     .master(\"local[1]\") \\\n",
    "#                     .appName('TradeCropsLivestock') \\\n",
    "#                     .getOrCreate()"
   ]
  },
  {
   "cell_type": "code",
   "execution_count": 6,
   "metadata": {},
   "outputs": [],
   "source": [
    "tcl_df = spark.read.option(\"header\", True)\\\n",
    "    .csv(f\"{cwd}/dataset/Trade_CropsLivestock_E_All_Data/Trade_CropsLivestock_E_All_Data.csv\")\n",
    "# tcl_df.printSchema()"
   ]
  },
  {
   "cell_type": "code",
   "execution_count": 7,
   "metadata": {},
   "outputs": [],
   "source": [
    "col_name = []\n",
    "for col in tcl_df.dtypes:\n",
    "    col_name.append(col[0])\n",
    "# col_name"
   ]
  },
  {
   "cell_type": "code",
   "execution_count": 8,
   "metadata": {},
   "outputs": [],
   "source": [
    "year_list = []\n",
    "for x in col_name:\n",
    "    if 'Y' in x and 'F' not in x:\n",
    "        year_list.append(int(x.replace('Y', '')))\n",
    "# year_list"
   ]
  },
  {
   "cell_type": "code",
   "execution_count": 9,
   "metadata": {},
   "outputs": [
    {
     "name": "stdout",
     "output_type": "stream",
     "text": [
      "+----+---------------+---------+\n",
      "|  id|        element|     unit|\n",
      "+----+---------------+---------+\n",
      "|5607|Import Quantity|       No|\n",
      "|5608|Import Quantity|     Head|\n",
      "|5609|Import Quantity|1000 Head|\n",
      "|5610|Import Quantity|   tonnes|\n",
      "|5622|   Import Value| 1000 US$|\n",
      "|5907|Export Quantity|       No|\n",
      "|5908|Export Quantity|     Head|\n",
      "|5909|Export Quantity|1000 Head|\n",
      "|5910|Export Quantity|   tonnes|\n",
      "|5922|   Export Value| 1000 US$|\n",
      "+----+---------------+---------+\n",
      "\n"
     ]
    }
   ],
   "source": [
    "ElementTrade_df = tcl_df.select(\n",
    "    tcl_df['Element Code'].cast('int').alias('id'),\n",
    "    tcl_df['Element'].cast('string').alias('element'),\n",
    "    tcl_df['Unit'].cast('string').alias('unit'),\n",
    ").orderBy('id')\n",
    "ElementTrade_df = ElementTrade_df.dropDuplicates([\"id\"])\n",
    "ElementTrade_df.show()"
   ]
  },
  {
   "cell_type": "code",
   "execution_count": 10,
   "metadata": {},
   "outputs": [
    {
     "name": "stdout",
     "output_type": "stream",
     "text": [
      "+----------+------------+----------------+-----+----+----+--------------------+\n",
      "|country_id|item_prod_id|element_trade_id|value|flag|year|    transformed_date|\n",
      "+----------+------------+----------------+-----+----+----+--------------------+\n",
      "|         2|         221|            5610| null|null|1961|2023-07-26 23:00:...|\n",
      "|         2|         221|            5610| null|null|1962|2023-07-26 23:00:...|\n",
      "|         2|         221|            5610| null|null|1963|2023-07-26 23:00:...|\n",
      "|         2|         221|            5610| null|null|1964|2023-07-26 23:00:...|\n",
      "|         2|         221|            5610| null|null|1965|2023-07-26 23:00:...|\n",
      "|         2|         221|            5610| null|null|1966|2023-07-26 23:00:...|\n",
      "|         2|         221|            5610| null|null|1967|2023-07-26 23:00:...|\n",
      "|         2|         221|            5610| null|null|1968|2023-07-26 23:00:...|\n",
      "|         2|         221|            5610| null|null|1969|2023-07-26 23:00:...|\n",
      "|         2|         221|            5610| null|null|1970|2023-07-26 23:00:...|\n",
      "|         2|         221|            5610| null|null|1971|2023-07-26 23:00:...|\n",
      "|         2|         221|            5610| null|null|1972|2023-07-26 23:00:...|\n",
      "|         2|         221|            5610| null|null|1973|2023-07-26 23:00:...|\n",
      "|         2|         221|            5610| null|null|1974|2023-07-26 23:00:...|\n",
      "|         2|         221|            5610| null|null|1975|2023-07-26 23:00:...|\n",
      "|         2|         221|            5610| null|null|1976|2023-07-26 23:00:...|\n",
      "|         2|         221|            5610| null|null|1977|2023-07-26 23:00:...|\n",
      "|         2|         221|            5610| null|null|1978|2023-07-26 23:00:...|\n",
      "|         2|         221|            5610| null|null|1979|2023-07-26 23:00:...|\n",
      "|         2|         221|            5610| null|null|1980|2023-07-26 23:00:...|\n",
      "+----------+------------+----------------+-----+----+----+--------------------+\n",
      "only showing top 20 rows\n",
      "\n"
     ]
    }
   ],
   "source": [
    "for year in year_list:\n",
    "    tcl_df = tcl_df.withColumn(f\"NewColumn_{year}\", F.array(f\"Y{year}\", f\"Y{year}F\", F.lit(year)))\n",
    "    tcl_df = tcl_df.drop(f\"Y{year}\", f\"Y{year}F\")\n",
    "    \n",
    "tcl_df = tcl_df.withColumn(f\"merge_column\", F.array(*[f\"NewColumn_{year}\" for year in year_list]))\n",
    "transformed_date = datetime.datetime.now()\n",
    "for year in year_list:\n",
    "    tcl_df = tcl_df.drop(f\"NewColumn_{year}\")\n",
    "tcl_df = tcl_df.select(\n",
    "    tcl_df['Area Code'].cast('int').alias('country_id'),\n",
    "    tcl_df['Item Code'].cast('int').alias('item_prod_id'),\n",
    "    tcl_df['Element Code'].cast('int').alias('element_trade_id'),\n",
    "    F.explode('merge_column').alias('year_col')\n",
    ")\n",
    "tcl_df = tcl_df.withColumn('value', F.lit(tcl_df.year_col[0])) \\\n",
    "                .withColumn('flag', F.lit(tcl_df.year_col[1])) \\\n",
    "                .withColumn('year', F.lit(tcl_df.year_col[2])) \\\n",
    "                .withColumn('transformed_date', F.lit(transformed_date))\n",
    "tcl_df = tcl_df.drop('year_col')\n",
    "tcl_df.show()"
   ]
  },
  {
   "cell_type": "code",
   "execution_count": 11,
   "metadata": {},
   "outputs": [],
   "source": [
    "ElementTrade_df.write\\\n",
    "    .mode(\"overwrite\") \\\n",
    "    .parquet(\"hdfs://127.0.0.1:9000/FAOSTAT_prj/DataWarehouse/Element_Trade\")"
   ]
  },
  {
   "cell_type": "code",
   "execution_count": 12,
   "metadata": {},
   "outputs": [],
   "source": [
    "tcl_df.write\\\n",
    "    .mode(\"overwrite\") \\\n",
    "    .parquet(\"hdfs://127.0.0.1:9000/FAOSTAT_prj/DataWarehouse/Trade_Crops_Livestock\")"
   ]
  },
  {
   "cell_type": "code",
   "execution_count": 13,
   "metadata": {},
   "outputs": [],
   "source": [
    "spark.stop()"
   ]
  }
 ],
 "metadata": {
  "kernelspec": {
   "display_name": "Python 3 (ipykernel)",
   "language": "python",
   "name": "python3"
  },
  "language_info": {
   "codemirror_mode": {
    "name": "ipython",
    "version": 3
   },
   "file_extension": ".py",
   "mimetype": "text/x-python",
   "name": "python",
   "nbconvert_exporter": "python",
   "pygments_lexer": "ipython3",
   "version": "3.9.13"
  }
 },
 "nbformat": 4,
 "nbformat_minor": 2
}
